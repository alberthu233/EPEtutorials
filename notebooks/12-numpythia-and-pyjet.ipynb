{
 "cells": [
  {
   "cell_type": "markdown",
   "metadata": {},
   "source": [
    "# numpythia\n",
    "Numpythia is an interface for Pythia and NumPy that lets you generate jet events comprised of four momenta vectors. To install the library run in bash:\n",
    "\n",
    "    pip3 install -v numpythia\n",
    "    \n",
    "You can find the documentation [here](https://github.com/scikit-hep/numpythia).\n",
    "\n",
    "### Setting Up PYTHIA\n",
    "There are 3 ways to set up [PYTHIA](http://home.thep.lu.se/~torbjorn/pdfdoc/pythia8200.pdf):"
   ]
  },
  {
   "cell_type": "code",
   "execution_count": null,
   "metadata": {},
   "outputs": [],
   "source": [
    "from numpythia import Pythia, hepmc_write, hepmc_read\n",
    "from numpythia import STATUS, HAS_END_VERTEX\n",
    "from numpythia.testcmnd import get_cmnd\n",
    "from numpy.testing import assert_array_equal"
   ]
  },
  {
   "cell_type": "code",
   "execution_count": null,
   "metadata": {},
   "outputs": [],
   "source": [
    "# Using **kwargs\n",
    "pythia = Pythia(Beams_eCM=13000.)\n",
    "\n",
    "# Using a Dictionary\n",
    "pythia = Pythia(params={'Beams:eCM':  13000.})\n",
    "\n",
    "# Using a Python Command File\n",
    "pythia = Pythia(config='OtherFiles/config.cmd')"
   ]
  },
  {
   "cell_type": "markdown",
   "metadata": {},
   "source": [
    "Notice that the '_' in kwarg names is replaced by a ':' in params. Also, kwargs will overwrite params, which will overwrite the config. You can generate new events using this Pythia object:"
   ]
  },
  {
   "cell_type": "code",
   "execution_count": null,
   "metadata": {},
   "outputs": [],
   "source": [
    "# This will make a GenEvent object containing all the generated particles\n",
    "events = pythia(events=100)\n",
    "type(events)"
   ]
  },
  {
   "cell_type": "markdown",
   "metadata": {},
   "source": [
    "To access, the generated particles use the ```all```, ```first```, and ```last``` methods that take two optional arguements. ```Selection``` is a filter applied to the particles in the event. The available filters are:\n",
    "\n",
    "    STATUS, PDG_ID, ABS_PDG_ID, HAS_END_VERTEX, HAS_PRODUCTION_VERTEX,\n",
    "    HAS_SAME_PDG_ID_DAUGHTER, IS_STABLE, IS_BEAM\n",
    "    \n",
    "The second arguement ```return_hepmc``` describes whether to write to [ascii hepmc](http://lcgapp.cern.ch/project/simu/HepMC/206/HepMC2_user_manual.pdf), which can be written and read using ```hepmc_write('events.hepmc', pythia(events=1))``` and ```hepmc_read('events.hepmc')```."
   ]
  },
  {
   "cell_type": "code",
   "execution_count": null,
   "metadata": {},
   "outputs": [],
   "source": [
    "selection = (STATUS == 1 & ~HAS_END_VERTEX)"
   ]
  },
  {
   "cell_type": "code",
   "execution_count": null,
   "metadata": {},
   "outputs": [],
   "source": [
    "for e in events:\n",
    "    # default return_hepmc = False\n",
    "    array = e.all(selection)"
   ]
  },
  {
   "cell_type": "code",
   "execution_count": null,
   "metadata": {},
   "outputs": [],
   "source": [
    "for e in events:\n",
    "    # default return_hepmc = True\n",
    "    gen_part_first = e.first(selection)\n",
    "    gen_part_last = e.last(selection)"
   ]
  },
  {
   "cell_type": "markdown",
   "metadata": {},
   "source": [
    "The ```Gen Particle``` you get from ```e.last()``` and ```e.first()``` has these fields:\n",
    "\n",
    "    pid, status, e, px, py, pz, pt, eta, phi, mass, theta, rap\n",
    "    \n",
    "You can also use the methods:\n",
    "\n",
    "    parents(), children(), ancestors(), descendants(), siblings()"
   ]
  },
  {
   "cell_type": "markdown",
   "metadata": {},
   "source": [
    "## Short Exercise 1\n",
    "Create an array of numpy arrays that contains all the four momenta vetors (E, px, py, pz) for each event."
   ]
  },
  {
   "cell_type": "code",
   "execution_count": null,
   "metadata": {},
   "outputs": [],
   "source": []
  },
  {
   "cell_type": "markdown",
   "metadata": {},
   "source": [
    "# pyjet\n",
    "To install run:\n",
    "\n",
    "    pip3 install --user pyjet\n",
    "\n",
    "Pyjet does jet clustering on given numpy arrays, which have this dtype:\n",
    "\n",
    "    [('E', 'f8'), ('px', 'f8'), ('py', 'f8'), ('pz', 'f8')]"
   ]
  },
  {
   "cell_type": "code",
   "execution_count": null,
   "metadata": {},
   "outputs": [],
   "source": [
    "from pyjet import cluster\n",
    "from pyjet.testdata import get_event"
   ]
  },
  {
   "cell_type": "code",
   "execution_count": null,
   "metadata": {},
   "outputs": [],
   "source": [
    "event = get_event() # made up of 4 momentum vectors\n",
    "sequence = cluster(event, R=1.0, p=0)\n",
    "jets = sequence.inclusive_jets()  # list of PseudoJets\n",
    "exclusivejets = sequence.exclusive_jets(2)  # find the cluster history when there are 2 jets"
   ]
  },
  {
   "cell_type": "markdown",
   "metadata": {},
   "source": [
    "You can find more examples using this package [here](https://github.com/scikit-hep/pyjet/tree/master/examples)."
   ]
  },
  {
   "cell_type": "markdown",
   "metadata": {},
   "source": [
    "## Short Exercise 2"
   ]
  },
  {
   "cell_type": "markdown",
   "metadata": {},
   "source": [
    "Go through all the events you found in Short Exercise 1 and cluster the event using PyJet to find all the jets."
   ]
  },
  {
   "cell_type": "code",
   "execution_count": null,
   "metadata": {},
   "outputs": [],
   "source": []
  },
  {
   "cell_type": "markdown",
   "metadata": {},
   "source": [
    "## Short Exercise 3\n",
    "Generate 1000 new parton showers. Make a histogram of the number of jets that result from all the events when you change the parameters of cluster() p to [-1, 0, 1] and R to [0.01, 0.05, 0.1, 0.5, 1.0]."
   ]
  },
  {
   "cell_type": "code",
   "execution_count": null,
   "metadata": {},
   "outputs": [],
   "source": []
  }
 ],
 "metadata": {
  "kernelspec": {
   "display_name": "Python 3",
   "language": "python",
   "name": "python3"
  },
  "language_info": {
   "codemirror_mode": {
    "name": "ipython",
    "version": 3
   },
   "file_extension": ".py",
   "mimetype": "text/x-python",
   "name": "python",
   "nbconvert_exporter": "python",
   "pygments_lexer": "ipython3",
   "version": "3.7.4"
  }
 },
 "nbformat": 4,
 "nbformat_minor": 2
}
