{
 "cells": [
  {
   "cell_type": "markdown",
   "metadata": {},
   "source": [
    "## Python environments\n",
    "\n",
    "You can run python commands in a handful of ways; you can create executable scripts, you can run the python interpreter, you can run IPython, or you can run IPython notebook.  IPython is an alternative to the built-in Python interpreter with some nice features.  IPython notebook gives you interactive access to the python interpreter from within a browser window, and it allows you to save your commands as a \"notebook\".\n",
    "\n",
    "Let's give the built-in interpreter a spin just this once.  Open a **Terminal** window, which starts your default shell.  Type \n",
    "\n",
    "    ipython \n"
   ]
  },
  {
   "cell_type": "markdown",
   "metadata": {},
   "source": [
    "And you should see python start up.  Type \n",
    "\n",
    "    >>> print(\"Fresh out of parrots\")\n",
    "\n"
   ]
  },
  {
   "cell_type": "markdown",
   "metadata": {},
   "source": [
    "Note the black-and-white wallpaper.\n",
    "\n",
    "Escape from python with \n",
    "\n",
    " \n",
    "\n",
    "    >>> quit()\n",
    "\n"
   ]
  },
  {
   "cell_type": "markdown",
   "metadata": {},
   "source": [
    "***\n",
    "\n",
    "\n",
    "\n",
    "IPython has more useful features for interactive use than the standard python interpreter, but it works in the same way--it is interacitve, and you get there from the command line.  IPython notebook uses javascript to allow you to enter python commands in your browser and show you the result in the browser.  We'll use it from here on out."
   ]
  },
  {
   "cell_type": "code",
   "execution_count": null,
   "metadata": {},
   "outputs": [],
   "source": [
    "print(\"hello world\")"
   ]
  },
  {
   "cell_type": "markdown",
   "metadata": {},
   "source": [
    "## Navigating the Notebook\n",
    "There are two types of cells in ipython: text and code. Text cells are written using [markdown](https://en.wikipedia.org/wiki/Markdown) and code cells are written in Python3. In this tutorial, you will only need to edit the code cells, but it is very easy to accidently mess up the given text boxes, so some keyboard shortcuts are necessary.\n",
    "\n",
    "iPython has two different modes(command and edit) when a cell is selected. Edit mode is for editing the content inside cells (code/text) while command mode is for editing the layout of The normal keyboard shortcuts (**Control+C/V/Z**) work like you would expect them to, but in command mode, there are specific keys you have to press to change the cells. Press **Escape** to enter command mode and **Enter** to enter edit mode.\n",
    "\n",
    "To run a cell, press (**Shift-Enter**). If you accidently enter edit mode on a text cell, just run the cell to return it to normal. \n",
    "\n",
    "First, create a cell by selecting the cell below this one (Code Cells), entering command mode (**Escape**), and pressing **a**. Now, delete the cell by entering commmand mode and pressing **d** two times. You can find more commands at this [cheatsheet](https://stackoverflow.com/a/38195812)."
   ]
  },
  {
   "cell_type": "markdown",
   "metadata": {},
   "source": [
    "## Code Cells\n",
    "\n",
    "The box bellow is an input cell; commands you put here will be fed to the python interpreter one at a time when you press **Shift-ENTER**.  \n",
    "\n",
    "The output of the command, or the error message, appears below the line you entered it on."
   ]
  },
  {
   "cell_type": "code",
   "execution_count": null,
   "metadata": {},
   "outputs": [],
   "source": [
    "print(\"Try and tell that to the young people\")\n",
    "print(\"of today--they won't believe you.\")"
   ]
  },
  {
   "cell_type": "markdown",
   "metadata": {},
   "source": [
    "If you hit **ENTER** only, ipython notebook gives you another line in the current cell.  \n",
    "\n",
    "This allows you to compose multi-line commands and submit them to python all at once.  "
   ]
  },
  {
   "cell_type": "markdown",
   "metadata": {},
   "source": [
    "Up and down arrows will allow you to move the cursor to different cells in the notebook, including these cells containing text (which you can edit in your browser).  \n",
    "\n",
    "Only the cells for which you press Shift-ENTER or Control-ENTER will be executed by the python interpreter.   "
   ]
  },
  {
   "cell_type": "markdown",
   "metadata": {},
   "source": [
    "You can enter the same line over and over again into the interpreter.  It's wierd, but it's life. "
   ]
  },
  {
   "cell_type": "code",
   "execution_count": null,
   "metadata": {},
   "outputs": [],
   "source": [
    "i = 0"
   ]
  },
  {
   "cell_type": "markdown",
   "metadata": {},
   "source": [
    "**Shift-ENTER** executes and moves to the next cell.  \n",
    "\n",
    "**Control-ENTER** executes and does *not* move to the next cell.  \n",
    "\n",
    "Run this cell until you get 10:  "
   ]
  },
  {
   "cell_type": "code",
   "execution_count": null,
   "metadata": {},
   "outputs": [],
   "source": [
    "i = i + 1\n",
    "print(i)"
   ]
  },
  {
   "cell_type": "markdown",
   "metadata": {},
   "source": [
    "## Getting Help\n",
    "\n",
    "\n",
    "\n",
    "IPython has some nice help features. Let's say we want to know more about the integer data type. There are at least two ways to do this task:"
   ]
  },
  {
   "cell_type": "code",
   "execution_count": null,
   "metadata": {},
   "outputs": [],
   "source": [
    "help(int)"
   ]
  },
  {
   "cell_type": "markdown",
   "metadata": {},
   "source": [
    "which displays a scrolling text help, or"
   ]
  },
  {
   "cell_type": "code",
   "execution_count": null,
   "metadata": {},
   "outputs": [],
   "source": [
    "int?"
   ]
  },
  {
   "cell_type": "markdown",
   "metadata": {},
   "source": [
    "Which displays a shorter help summary in the magic pane at the bottom of the screen.  You can minimize the magic pane when it gets in your way."
   ]
  },
  {
   "cell_type": "markdown",
   "metadata": {},
   "source": [
    "If you wanted to see all the built-in commands available for something, use the *dir* command. Check out all of the methods of the object \"Hello world\", which are shared by all objects of the str type."
   ]
  },
  {
   "cell_type": "code",
   "execution_count": null,
   "metadata": {},
   "outputs": [],
   "source": [
    "dir(\"Hello world\")"
   ]
  },
  {
   "cell_type": "markdown",
   "metadata": {},
   "source": [
    "There's a method that looks important -- swapcase.  Let's see what it does:  "
   ]
  },
  {
   "cell_type": "code",
   "execution_count": null,
   "metadata": {},
   "outputs": [],
   "source": [
    "\"Hello world\".swapcase()"
   ]
  },
  {
   "cell_type": "markdown",
   "metadata": {},
   "source": [
    "Hrm.  Ahem.\n",
    "\n",
    "## Executing code in files\n",
    "\n",
    "\n",
    "\n",
    "If your code is in a file, you can execute it from the IPython shell with the **%run** command. Execute hello.py like so"
   ]
  },
  {
   "cell_type": "code",
   "execution_count": null,
   "metadata": {},
   "outputs": [],
   "source": [
    "%run OtherFiles/hellp.py"
   ]
  },
  {
   "cell_type": "markdown",
   "metadata": {},
   "source": [
    "*Ooops.*  We misspelled **hello.py**, and python is giving us an error message.  Change the line above to hello.py, hit **Shift-ENTER**, and see what it does. Store the .py files you want to run in the folder OtherScripts and write this to run them:"
   ]
  },
  {
   "cell_type": "code",
   "execution_count": null,
   "metadata": {},
   "outputs": [],
   "source": [
    "%run OtherScripts/code.py"
   ]
  },
  {
   "cell_type": "markdown",
   "metadata": {},
   "source": [
    "## Clearing IPython\n",
    "\n",
    "\n",
    "\n",
    "To clear everything from IPython, use the %reset command."
   ]
  },
  {
   "cell_type": "code",
   "execution_count": null,
   "metadata": {},
   "outputs": [],
   "source": [
    "mystring = \"And three shall be the count.\" \n",
    "print(mystring)"
   ]
  },
  {
   "cell_type": "code",
   "execution_count": null,
   "metadata": {},
   "outputs": [],
   "source": [
    "%reset"
   ]
  },
  {
   "cell_type": "code",
   "execution_count": null,
   "metadata": {},
   "outputs": [],
   "source": [
    "print(mystring)"
   ]
  },
  {
   "cell_type": "markdown",
   "metadata": {},
   "source": [
    "Note that the error message contains a recap of the input that caused the error (with an arrow, no less!)   It is objecting that **mystring** is not defined, since we just reset it."
   ]
  }
 ],
 "metadata": {
  "kernelspec": {
   "display_name": "Python 3",
   "language": "python",
   "name": "python3"
  },
  "language_info": {
   "codemirror_mode": {
    "name": "ipython",
    "version": 3
   },
   "file_extension": ".py",
   "mimetype": "text/x-python",
   "name": "python",
   "nbconvert_exporter": "python",
   "pygments_lexer": "ipython3",
   "version": "3.9.0"
  }
 },
 "nbformat": 4,
 "nbformat_minor": 4
}
