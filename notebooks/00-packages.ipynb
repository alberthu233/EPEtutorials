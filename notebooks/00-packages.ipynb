{
 "cells": [
  {
   "cell_type": "markdown",
   "metadata": {},
   "source": [
    "# Packages\n",
    "At this point, you should have already installed several packages. Here is a rundown of what they do:\n",
    "## Git\n",
    "Git is an open source version control software that is useful for project collaboration. \n",
    "## Anaconda\n",
    "Anaconda is a collection of scientific Python packages. The full list can be viewed [here](https://www.anaconda.com/distribution/).\n",
    "## Python\n",
    "Python3 is the main programming language we will be using in this tutorial. It is a [dynamic](https://en.wikipedia.org/wiki/Dynamic_programming_language), [interpreted](https://en.wikipedia.org/wiki/Interpreted_language), and [high-level](https://en.wikipedia.org/wiki/High-level_programming_language) programming language.\n",
    "## Jupyter Notebook\n",
    "Jupyter is an open-source web-based interactive development enviroment (I.D.E.).\n",
    "## NumPy\n",
    "NumPy is a package for computing in Python. It allows you to create N-dimensional array objects and useful for linear algebra and random number generation.\n",
    "## MatPlotLib\n",
    "This Python package creates visual graphs of data.\n"
   ]
  },
  {
   "cell_type": "markdown",
   "metadata": {},
   "source": []
  }
 ],
 "metadata": {
  "kernelspec": {
   "display_name": "Python 3",
   "language": "python",
   "name": "python3"
  },
  "language_info": {
   "codemirror_mode": {
    "name": "ipython",
    "version": 3
   },
   "file_extension": ".py",
   "mimetype": "text/x-python",
   "name": "python",
   "nbconvert_exporter": "python",
   "pygments_lexer": "ipython3",
   "version": "3.9.0"
  }
 },
 "nbformat": 4,
 "nbformat_minor": 4
}
